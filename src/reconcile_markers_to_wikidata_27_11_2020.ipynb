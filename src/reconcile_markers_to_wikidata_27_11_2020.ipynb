{
 "metadata": {
  "language_info": {
   "codemirror_mode": {
    "name": "ipython",
    "version": 3
   },
   "file_extension": ".py",
   "mimetype": "text/x-python",
   "name": "python",
   "nbconvert_exporter": "python",
   "pygments_lexer": "ipython3",
   "version": 3
  },
  "orig_nbformat": 2
 },
 "nbformat": 4,
 "nbformat_minor": 2,
 "cells": [
  {
   "source": [
    "# Integration of human markers from PanglaoDB to Wikidata\n",
    "\n",
    "- Tiago Lubiana\n",
    "- University of São Paulo ID: 8945857\n",
    "\n",
    "\n",
    "This notebook contains the code used for:\n",
    "- matching PanglaoDB markers dataset to Wikidata classes\n",
    "- sending POST requests to Wikidata's API for updating their database.\n",
    "\n",
    "\n",
    "I've used the pandas module to handle dataframes. \n",
    "\n",
    "The gene and cell type reference datasets include the dictionaries for matching cell types and genes on PanglaoDB to previously existing classes on Wikidata. \n",
    "\n"
   ],
   "cell_type": "markdown",
   "metadata": {}
  },
  {
   "cell_type": "code",
   "execution_count": 1,
   "metadata": {},
   "outputs": [],
   "source": [
    "import pandas as pd \n",
    "\n",
    "gene_reference = pd.read_csv(\"../data/human_gene_reference_from_panglao_to_wikidata_04_11_2020.csv\")\n",
    "\n",
    "cell_type_reference = pd.read_csv(\"../data/cell_type_reference_from_panglao_to_wikidata_31_10_2020.csv\")\n",
    "\n",
    "markers = pd.read_csv(\"../data/PanglaoDB_markers_27_Mar_2020.tsv\", sep=\"\\t\")"
   ]
  },
  {
   "source": [
    "The Panglao Database contains markers for both human and species-specific cell-types. For this work, we are only focusing on the human-specific cell types. \n",
    "\n",
    "We will, then, trim the markers data frame so it contains only the human-related assertions. "
   ],
   "cell_type": "markdown",
   "metadata": {}
  },
  {
   "cell_type": "code",
   "execution_count": 2,
   "metadata": {},
   "outputs": [],
   "source": [
    "human_markers = markers[[\"Hs\" in val for val in markers[\"species\"]]]\n",
    "human_markers_lean = human_markers[[\"official gene symbol\", \"cell type\"]]\n"
   ]
  },
  {
   "source": [
    "Before this work, Wikidata did not contain human-specific cell types. \n",
    "\n",
    "The reference dictionary was constructed for species-neutral cell types.\n",
    "\n",
    "In a later step, human-specific cell types were added to Wikidata. \n",
    "\n",
    "In the SPARQL query below, we the Wikidata endpoint for species-neutral cell types and human specific cell types. \n",
    "\n"
   ],
   "cell_type": "markdown",
   "metadata": {}
  },
  {
   "cell_type": "code",
   "execution_count": 3,
   "metadata": {},
   "outputs": [],
   "source": [
    "from wikidata2df import wikidata2df\n",
    "\n",
    "query = \"\"\"\n",
    "SELECT ?item ?itemLabel ?superclass\n",
    "WHERE\n",
    "{\n",
    "?item wdt:P31 wd:Q189118. # instance of cell type\n",
    "?item wdt:P703 wd:Q15978631. # found in taxon Homo sapiens\n",
    "\n",
    "?item wdt:P279 ?superclass. # subclass of ?superclass\n",
    "?superclass  wdt:P31 wd:Q189118. # ?superclass is a cell type\n",
    "\n",
    "?item rdfs:label ?itemLabel\n",
    "\n",
    "}\n",
    "\"\"\"\n",
    "\n",
    "dataframe_to_join = wikidata2df(query)"
   ]
  },
  {
   "cell_type": "code",
   "execution_count": 4,
   "metadata": {},
   "outputs": [
    {
     "output_type": "execute_result",
     "data": {
      "text/plain": [
       "   Unnamed: 0                    panglao    wikidata        item  superclass  \\\n",
       "0           0                Basal cells  Q101062513  Q101404853  Q101062513   \n",
       "1           1         Trigeminal neurons  Q101062590  Q101404857  Q101062590   \n",
       "2           2      Juxtaglomerular cells    Q2596226  Q101404858    Q2596226   \n",
       "3           3  Pancreatic stellate cells    Q1164962  Q101404859    Q1164962   \n",
       "4           4                Fibroblasts     Q463418  Q101404861     Q463418   \n",
       "\n",
       "                        itemLabel  \n",
       "0                human basal cell  \n",
       "1         human trigeminal neuron  \n",
       "2      human juxtaglomerular cell  \n",
       "3  human pancreatic stellate cell  \n",
       "4                human fibroblast  "
      ],
      "text/html": "<div>\n<style scoped>\n    .dataframe tbody tr th:only-of-type {\n        vertical-align: middle;\n    }\n\n    .dataframe tbody tr th {\n        vertical-align: top;\n    }\n\n    .dataframe thead th {\n        text-align: right;\n    }\n</style>\n<table border=\"1\" class=\"dataframe\">\n  <thead>\n    <tr style=\"text-align: right;\">\n      <th></th>\n      <th>Unnamed: 0</th>\n      <th>panglao</th>\n      <th>wikidata</th>\n      <th>item</th>\n      <th>superclass</th>\n      <th>itemLabel</th>\n    </tr>\n  </thead>\n  <tbody>\n    <tr>\n      <th>0</th>\n      <td>0</td>\n      <td>Basal cells</td>\n      <td>Q101062513</td>\n      <td>Q101404853</td>\n      <td>Q101062513</td>\n      <td>human basal cell</td>\n    </tr>\n    <tr>\n      <th>1</th>\n      <td>1</td>\n      <td>Trigeminal neurons</td>\n      <td>Q101062590</td>\n      <td>Q101404857</td>\n      <td>Q101062590</td>\n      <td>human trigeminal neuron</td>\n    </tr>\n    <tr>\n      <th>2</th>\n      <td>2</td>\n      <td>Juxtaglomerular cells</td>\n      <td>Q2596226</td>\n      <td>Q101404858</td>\n      <td>Q2596226</td>\n      <td>human juxtaglomerular cell</td>\n    </tr>\n    <tr>\n      <th>3</th>\n      <td>3</td>\n      <td>Pancreatic stellate cells</td>\n      <td>Q1164962</td>\n      <td>Q101404859</td>\n      <td>Q1164962</td>\n      <td>human pancreatic stellate cell</td>\n    </tr>\n    <tr>\n      <th>4</th>\n      <td>4</td>\n      <td>Fibroblasts</td>\n      <td>Q463418</td>\n      <td>Q101404861</td>\n      <td>Q463418</td>\n      <td>human fibroblast</td>\n    </tr>\n  </tbody>\n</table>\n</div>"
     },
     "metadata": {},
     "execution_count": 4
    }
   ],
   "source": [
    "cell_type_reference = cell_type_reference.merge(dataframe_to_join, left_on=\"wikidata\", right_on=\"superclass\")\n",
    "\n",
    "cell_type_reference.head()"
   ]
  },
  {
   "cell_type": "code",
   "execution_count": 5,
   "metadata": {},
   "outputs": [
    {
     "output_type": "execute_result",
     "data": {
      "text/plain": [
       "  official gene symbol         cell type (general) cell type id (human)  \\\n",
       "0                CEBPA  Adipocyte progenitor cells           Q101404942   \n",
       "1                CEBPA                   Basophils           Q101405089   \n",
       "2                CEBPA                Hepatoblasts           Q101404910   \n",
       "3                CEBPA                 Hepatocytes           Q101405101   \n",
       "4                CEBPA                   Microglia           Q101404888   \n",
       "\n",
       "     gene id  \n",
       "0  Q17861031  \n",
       "1  Q17861031  \n",
       "2  Q17861031  \n",
       "3  Q17861031  \n",
       "4  Q17861031  "
      ],
      "text/html": "<div>\n<style scoped>\n    .dataframe tbody tr th:only-of-type {\n        vertical-align: middle;\n    }\n\n    .dataframe tbody tr th {\n        vertical-align: top;\n    }\n\n    .dataframe thead th {\n        text-align: right;\n    }\n</style>\n<table border=\"1\" class=\"dataframe\">\n  <thead>\n    <tr style=\"text-align: right;\">\n      <th></th>\n      <th>official gene symbol</th>\n      <th>cell type (general)</th>\n      <th>cell type id (human)</th>\n      <th>gene id</th>\n    </tr>\n  </thead>\n  <tbody>\n    <tr>\n      <th>0</th>\n      <td>CEBPA</td>\n      <td>Adipocyte progenitor cells</td>\n      <td>Q101404942</td>\n      <td>Q17861031</td>\n    </tr>\n    <tr>\n      <th>1</th>\n      <td>CEBPA</td>\n      <td>Basophils</td>\n      <td>Q101405089</td>\n      <td>Q17861031</td>\n    </tr>\n    <tr>\n      <th>2</th>\n      <td>CEBPA</td>\n      <td>Hepatoblasts</td>\n      <td>Q101404910</td>\n      <td>Q17861031</td>\n    </tr>\n    <tr>\n      <th>3</th>\n      <td>CEBPA</td>\n      <td>Hepatocytes</td>\n      <td>Q101405101</td>\n      <td>Q17861031</td>\n    </tr>\n    <tr>\n      <th>4</th>\n      <td>CEBPA</td>\n      <td>Microglia</td>\n      <td>Q101404888</td>\n      <td>Q17861031</td>\n    </tr>\n  </tbody>\n</table>\n</div>"
     },
     "metadata": {},
     "execution_count": 5
    }
   ],
   "source": [
    "human_markers_lean = human_markers_lean.merge(cell_type_reference, left_on=\"cell type\", right_on=\"panglao\")[[\"official gene symbol\", \"cell type\", \"item\"]]\n",
    "human_markers_lean.columns = [\"official gene symbol\", \"cell type\", \"cell type id\"]\n",
    "\n",
    "\n",
    "human_markers_lean = human_markers_lean.merge(gene_reference, left_on=\"official gene symbol\", right_on=\"panglao\")[[\"official gene symbol\", \"cell type\", \"cell type id\", \"wikidata\"]]\n",
    "human_markers_lean.columns = [\"official gene symbol\", \"cell type (general)\", \"cell type id (human)\", \"gene id\"]\n",
    "\n",
    "human_markers_lean = human_markers_lean.drop_duplicates()\n",
    "human_markers_lean.head()"
   ]
  },
  {
   "cell_type": "code",
   "execution_count": 6,
   "metadata": {},
   "outputs": [],
   "source": [
    "human_markers_lean.to_csv(\"../src/human_markers_to_add_to_wikidata_27_11_2020.csv\")"
   ]
  },
  {
   "source": [
    "Now that we have the formatted CSV with the proper identifiers, the next step is to add the assertions to Wikidata's database. \n",
    "\n",
    "For that, we will use the WikidataIntegrator python module, a wrapper for the Wikidata API. With it we can add triples to Wikidata. The statements themselves are linked to reference also via a triple system. \n",
    "\n",
    "This code should not be run again, as the information is already on Wikidata. Here is the code, for information: \n",
    "\n",
    "\n",
    "```\n",
    "from wikidataintegrator import wdi_core, wdi_login\n",
    "from wikidataintegrator.wdi_helpers import try_write\n",
    "import os\n",
    "import pandas as pd\n",
    "import pprint\n",
    "from IPython.display import clear_output\n",
    "from getpass import getpass\n",
    "\n",
    "WBUSER = getpass(prompt=\"username:\")  \n",
    "WBPASS = getpass(prompt='Enter your password: ')  \n",
    "login = wdi_login.WDLogin(WBUSER, WBPASS)\n",
    "```\n",
    "\n",
    "And then, after entering login and password in the command line, \n",
    "\n",
    "```\n",
    "for i, row in human_markers_lean.iterrows():\n",
    "    s = row[\"cell type id (human)\"]\n",
    "    p = \"P8872\"\n",
    "    o = row[\"gene id\"]\n",
    "    r1 = \"P813\"\n",
    "    or1 = \"+2020-11-27T00:00:00Z/11\"\n",
    "    r2 = \"P854\"\n",
    "    or2 = 'https://panglaodb.se/markers.html'\n",
    "    r3 = \"P248\"\n",
    "    or3 = \"Q99936939\"\n",
    "\n",
    "    statements =[ wdi_core.WDItemID(value= o, prop_nr=p), \n",
    "                  wdi_core.WDUrl(or2, r2,  is_reference=True),\n",
    "                  wdi_core.WDItemID(or3, r3, is_reference=True)]\n",
    "    \n",
    "    item = wdi_core.WDItemEngine(wd_item_id=s, data=statements)   \n",
    "\n",
    "    item.write(login)\n",
    "\n",
    "```\n",
    "\n",
    "To show the code was effective, we will get the information from Wikidata via SPARQL. \n"
   ],
   "cell_type": "markdown",
   "metadata": {}
  },
  {
   "cell_type": "code",
   "execution_count": 7,
   "metadata": {},
   "outputs": [],
   "source": [
    "from wikidata2df import wikidata2df\n",
    "\n",
    "query_for_markers = \"\"\"\n",
    "SELECT DISTINCT ?cellTypeLabel ?markerLabel ?dbLabel ?date\n",
    "WHERE\n",
    "{\n",
    "  \n",
    "     ?cellType p:P8872 ?statement.\n",
    "   \n",
    "     ?statement ps:P8872 ?marker.\n",
    "     ?statement prov:wasDerivedFrom ?refnode.\n",
    "     \n",
    "     ?refnode   pr:P813 ?date.\n",
    "     ?refnode   pr:P248 wd:Q99936939.\n",
    "     ?refnode   pr:P248 ?db.\n",
    "  \n",
    "     ?cellType rdfs:label ?cellTypeLabel.\n",
    "     ?marker   rdfs:label ?markerLabel.\n",
    "     ?db rdfs:label ?dbLabel.\n",
    "\n",
    "     FILTER(LANG(?cellTypeLabel) = \"en\")\n",
    "     FILTER(LANG(?markerLabel) = \"en\")\n",
    "     FILTER(LANG(?dbLabel) = \"en\")\n",
    "\n",
    "}\n",
    "\"\"\"\n",
    "\n",
    "panglao_markers_on_wikidata = wikidata2df(query_for_markers)"
   ]
  },
  {
   "cell_type": "code",
   "execution_count": 8,
   "metadata": {},
   "outputs": [
    {
     "output_type": "execute_result",
     "data": {
      "text/plain": [
       "     dbLabel                  date      cellTypeLabel markerLabel\n",
       "0  PanglaoDB  2020-11-27T00:00:00Z  human ductal cell        CTSH\n",
       "1  PanglaoDB  2020-11-27T00:00:00Z  human ductal cell        AMBP\n",
       "2  PanglaoDB  2020-11-27T00:00:00Z  human ductal cell        MUC1\n",
       "3  PanglaoDB  2020-11-27T00:00:00Z  human ductal cell       KRT20\n",
       "4  PanglaoDB  2020-11-27T00:00:00Z    human microglia       CSF1R"
      ],
      "text/html": "<div>\n<style scoped>\n    .dataframe tbody tr th:only-of-type {\n        vertical-align: middle;\n    }\n\n    .dataframe tbody tr th {\n        vertical-align: top;\n    }\n\n    .dataframe thead th {\n        text-align: right;\n    }\n</style>\n<table border=\"1\" class=\"dataframe\">\n  <thead>\n    <tr style=\"text-align: right;\">\n      <th></th>\n      <th>dbLabel</th>\n      <th>date</th>\n      <th>cellTypeLabel</th>\n      <th>markerLabel</th>\n    </tr>\n  </thead>\n  <tbody>\n    <tr>\n      <th>0</th>\n      <td>PanglaoDB</td>\n      <td>2020-11-27T00:00:00Z</td>\n      <td>human ductal cell</td>\n      <td>CTSH</td>\n    </tr>\n    <tr>\n      <th>1</th>\n      <td>PanglaoDB</td>\n      <td>2020-11-27T00:00:00Z</td>\n      <td>human ductal cell</td>\n      <td>AMBP</td>\n    </tr>\n    <tr>\n      <th>2</th>\n      <td>PanglaoDB</td>\n      <td>2020-11-27T00:00:00Z</td>\n      <td>human ductal cell</td>\n      <td>MUC1</td>\n    </tr>\n    <tr>\n      <th>3</th>\n      <td>PanglaoDB</td>\n      <td>2020-11-27T00:00:00Z</td>\n      <td>human ductal cell</td>\n      <td>KRT20</td>\n    </tr>\n    <tr>\n      <th>4</th>\n      <td>PanglaoDB</td>\n      <td>2020-11-27T00:00:00Z</td>\n      <td>human microglia</td>\n      <td>CSF1R</td>\n    </tr>\n  </tbody>\n</table>\n</div>"
     },
     "metadata": {},
     "execution_count": 8
    }
   ],
   "source": [
    "panglao_markers_on_wikidata.head()"
   ]
  },
  {
   "source": [
    "Now that the PanglaoDB is released as Linked Open Data, we can make queries that were not possible before.\n",
    "\n",
    "\n",
    "Thanks to other reconciliation projects, Wikidata contains already information about genes, including their relations to Gene Ontology terms. \n",
    "\n",
    "The PanglaoDB integration to the Wikidata ecosystem allows us to ask questions like:  \n",
    "\n",
    "\"Which human cell types are related to neurogenesis via their markers?\""
   ],
   "cell_type": "markdown",
   "metadata": {}
  },
  {
   "cell_type": "code",
   "execution_count": 9,
   "metadata": {},
   "outputs": [],
   "source": [
    "from wikidata2df import wikidata2df\n",
    "\n",
    "query_for_neurogenesis = \"\"\"\n",
    "SELECT ?geneLabel ?cellTypeLabel ?processLabel\n",
    "WHERE \n",
    "{\n",
    "  ?protein wdt:P682 wd:Q1456827. # protein molecular process neurogenesis\n",
    "  ?protein wdt:P702 ?gene.       # protein encoded by gene\n",
    "  \n",
    "  {?gene wdt:P31 wd:Q277338.}    # gene is an instance of a pseudogene \n",
    "  UNION                          # or\n",
    "  {?gene wdt:P31 wd:Q7187.}      # gene is an instance of a gene\n",
    "  ?gene wdt:P703 wd:Q15978631.   # gene is found in taxon Homo sapiens\n",
    "  \n",
    "  ?cellType wdt:P8872 ?gene.     # cell type has marker gene\n",
    "  \n",
    "  ?cellType rdfs:label ?cellTypeLabel.\n",
    "  ?gene   rdfs:label ?geneLabel.\n",
    "  wd:Q1456827 rdfs:label ?processLabel.\n",
    "\n",
    "  FILTER(LANG(?cellTypeLabel) = \"en\")\n",
    "  FILTER(LANG(?geneLabel) = \"en\")\n",
    "  FILTER(LANG(?processLabel) = \"en\")\n",
    "\n",
    "}\n",
    "\"\"\"\n",
    "\n",
    "cell_types_related_to_neurogenesis = wikidata2df(query_for_neurogenesis)"
   ]
  },
  {
   "cell_type": "code",
   "execution_count": 10,
   "metadata": {},
   "outputs": [
    {
     "output_type": "execute_result",
     "data": {
      "text/plain": [
       "                     cellTypeLabel geneLabel  processLabel\n",
       "0            human purkinje neuron       OMP  neurogenesis\n",
       "1  human olfactory epithelial cell       OMP  neurogenesis\n",
       "2                     human neuron       OMP  neurogenesis\n",
       "3                 human delta cell     PCSK9  neurogenesis\n",
       "4         human loop of henle cell     PCSK9  neurogenesis"
      ],
      "text/html": "<div>\n<style scoped>\n    .dataframe tbody tr th:only-of-type {\n        vertical-align: middle;\n    }\n\n    .dataframe tbody tr th {\n        vertical-align: top;\n    }\n\n    .dataframe thead th {\n        text-align: right;\n    }\n</style>\n<table border=\"1\" class=\"dataframe\">\n  <thead>\n    <tr style=\"text-align: right;\">\n      <th></th>\n      <th>cellTypeLabel</th>\n      <th>geneLabel</th>\n      <th>processLabel</th>\n    </tr>\n  </thead>\n  <tbody>\n    <tr>\n      <th>0</th>\n      <td>human purkinje neuron</td>\n      <td>OMP</td>\n      <td>neurogenesis</td>\n    </tr>\n    <tr>\n      <th>1</th>\n      <td>human olfactory epithelial cell</td>\n      <td>OMP</td>\n      <td>neurogenesis</td>\n    </tr>\n    <tr>\n      <th>2</th>\n      <td>human neuron</td>\n      <td>OMP</td>\n      <td>neurogenesis</td>\n    </tr>\n    <tr>\n      <th>3</th>\n      <td>human delta cell</td>\n      <td>PCSK9</td>\n      <td>neurogenesis</td>\n    </tr>\n    <tr>\n      <th>4</th>\n      <td>human loop of henle cell</td>\n      <td>PCSK9</td>\n      <td>neurogenesis</td>\n    </tr>\n  </tbody>\n</table>\n</div>"
     },
     "metadata": {},
     "execution_count": 10
    }
   ],
   "source": [
    "cell_types_related_to_neurogenesis.head()"
   ]
  }
 ]
}